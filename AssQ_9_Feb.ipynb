{
 "cells": [
  {
   "cell_type": "markdown",
   "id": "9debe13d-451f-4fc5-adce-8a41499211b0",
   "metadata": {},
   "source": [
    "# Assignment_ 9 Feb_ OOPS"
   ]
  },
  {
   "cell_type": "markdown",
   "id": "1d38e663-28d9-4fdf-a0e0-1f3f7cff2891",
   "metadata": {},
   "source": [
    "### Q-1: Create a vehicle class with an init method having instance variables as name_of_vehicle, max_speed \n",
    "### and average_of_vehicle. "
   ]
  },
  {
   "cell_type": "code",
   "execution_count": 11,
   "id": "947eda4c-88c6-4e84-a97e-404d17d26178",
   "metadata": {},
   "outputs": [],
   "source": [
    "class vehicle:\n",
    "    def __init__(self,name_of_vehicle,max_speed,average_of_vehicle):\n",
    "         self.__name_of_vehicle=name_of_vehicle\n",
    "         self.__max_speed= max_speed\n",
    "         self.__average_of_vehicle= average_of_vehicle\n",
    "           "
   ]
  },
  {
   "cell_type": "code",
   "execution_count": 27,
   "id": "b588e4b2-0a35-43d9-8426-f52102b3232d",
   "metadata": {},
   "outputs": [],
   "source": [
    "c= vehicle(\"BMW\",200,100)"
   ]
  },
  {
   "cell_type": "code",
   "execution_count": 28,
   "id": "dc60be5e-a7ca-49b8-b978-4aeef8e6488f",
   "metadata": {},
   "outputs": [
    {
     "data": {
      "text/plain": [
       "'BMW'"
      ]
     },
     "execution_count": 28,
     "metadata": {},
     "output_type": "execute_result"
    }
   ],
   "source": [
    "c._vehicle__name_of_vehicle"
   ]
  },
  {
   "cell_type": "code",
   "execution_count": 29,
   "id": "0aa8ea67-8486-4a3f-91dd-d67c748322b9",
   "metadata": {},
   "outputs": [
    {
     "data": {
      "text/plain": [
       "200"
      ]
     },
     "execution_count": 29,
     "metadata": {},
     "output_type": "execute_result"
    }
   ],
   "source": [
    "c._vehicle__max_speed"
   ]
  },
  {
   "cell_type": "code",
   "execution_count": 30,
   "id": "4d311532-5f90-4204-b45e-15cbfbb77f56",
   "metadata": {},
   "outputs": [
    {
     "data": {
      "text/plain": [
       "100"
      ]
     },
     "execution_count": 30,
     "metadata": {},
     "output_type": "execute_result"
    }
   ],
   "source": [
    "c._vehicle__average_of_vehicle"
   ]
  },
  {
   "cell_type": "code",
   "execution_count": null,
   "id": "a75f4a6d-435e-4daa-9d04-333e573d3f56",
   "metadata": {},
   "outputs": [],
   "source": []
  },
  {
   "cell_type": "code",
   "execution_count": 31,
   "id": "707a14f2-5216-41fd-8699-af027936062b",
   "metadata": {},
   "outputs": [],
   "source": [
    "### Q2.  Create a child class car from the vehicle class created in Que 1, which will inherit the vehicle class. \n",
    "### Create a method named seating_capacity which takes capacity as an argument and returns the name of \n",
    "### the vehicle and its seating capacity."
   ]
  },
  {
   "cell_type": "code",
   "execution_count": null,
   "id": "bf210981-9456-4216-b62d-16667d33d7e1",
   "metadata": {},
   "outputs": [],
   "source": [
    "class child_car(vehicle):"
   ]
  },
  {
   "cell_type": "code",
   "execution_count": null,
   "id": "31e77178-d4f5-44ef-a699-4c78a16e66a1",
   "metadata": {},
   "outputs": [],
   "source": []
  },
  {
   "cell_type": "markdown",
   "id": "8df95576-bd42-41d1-a975-1f89b3384c8c",
   "metadata": {},
   "source": [
    "#### Q3. What is multiple inheritance? Write a python code to demonstrate multiple inheritance."
   ]
  },
  {
   "cell_type": "code",
   "execution_count": 32,
   "id": "04d6e939-9170-45b0-8d1f-1048f6572de3",
   "metadata": {},
   "outputs": [],
   "source": [
    "## Multiple inheritance is a feature of python programming languages in which an\n",
    "## object or class can inherit features from more than one parent object or parent class. It is distinct from\n",
    "## single inheritance, where an object or class may only inherit from one particular object or class."
   ]
  },
  {
   "cell_type": "code",
   "execution_count": 51,
   "id": "14138bac-4c45-4d36-bd93-89d70f08bb37",
   "metadata": {},
   "outputs": [],
   "source": [
    "class A:\n",
    "    def test_A(self):\n",
    "        return \"this is a parent class A\""
   ]
  },
  {
   "cell_type": "code",
   "execution_count": 52,
   "id": "d958f916-b4b0-46d5-a9dc-311c827f050e",
   "metadata": {},
   "outputs": [],
   "source": [
    "class B:\n",
    "    def test_B(self):\n",
    "        return \"this is a parent class B\""
   ]
  },
  {
   "cell_type": "code",
   "execution_count": 53,
   "id": "05f80779-26c0-4033-aeb8-df73361300e7",
   "metadata": {},
   "outputs": [],
   "source": [
    "class C(A,B):\n",
    "    pass"
   ]
  },
  {
   "cell_type": "code",
   "execution_count": 54,
   "id": "be659289-1573-495a-bf36-bf8c5c72dd60",
   "metadata": {},
   "outputs": [],
   "source": [
    "obj_C = C()"
   ]
  },
  {
   "cell_type": "code",
   "execution_count": 55,
   "id": "14c5e66c-b700-44fd-b5f1-4d53b4209087",
   "metadata": {},
   "outputs": [
    {
     "data": {
      "text/plain": [
       "'this is a parent class A'"
      ]
     },
     "execution_count": 55,
     "metadata": {},
     "output_type": "execute_result"
    }
   ],
   "source": [
    "obj_C.test_A()"
   ]
  },
  {
   "cell_type": "code",
   "execution_count": 56,
   "id": "07453de7-6077-4ba5-b13b-8b6b40b4a0e3",
   "metadata": {},
   "outputs": [
    {
     "data": {
      "text/plain": [
       "'this is a parent class B'"
      ]
     },
     "execution_count": 56,
     "metadata": {},
     "output_type": "execute_result"
    }
   ],
   "source": [
    "obj_C.test_B()"
   ]
  },
  {
   "cell_type": "code",
   "execution_count": null,
   "id": "c4b5d771-b7dd-4f4d-bf34-4acf5fea7f6e",
   "metadata": {},
   "outputs": [],
   "source": []
  },
  {
   "cell_type": "code",
   "execution_count": 58,
   "id": "81e1575d-747d-4c00-8456-f2ce5d74ba30",
   "metadata": {},
   "outputs": [],
   "source": [
    "### Q4. What are getter and setter in python? Create a class and create a getter and a setter method in this class."
   ]
  },
  {
   "cell_type": "code",
   "execution_count": 59,
   "id": "1400e2c2-930b-42fe-ab0e-64ed326e11df",
   "metadata": {},
   "outputs": [],
   "source": [
    "## Getter: A method that allows to access an attribute in a given class. \n",
    "## Setter: A method that allows to set or mutate the value of an attribute in a class."
   ]
  },
  {
   "cell_type": "code",
   "execution_count": 63,
   "id": "364c99ab-4337-4fde-b17c-4013e5306916",
   "metadata": {},
   "outputs": [
    {
     "name": "stdout",
     "output_type": "stream",
     "text": [
      "30\n",
      "30\n"
     ]
    }
   ],
   "source": [
    "class A:\n",
    "    def __init__(self, age = 0):\n",
    "         self._age = age\n",
    "      \n",
    "    # getter method\n",
    "    def get_age(self):\n",
    "        return self._age\n",
    "      \n",
    "    # setter method\n",
    "    def set_age(self, x):\n",
    "        self._age = x\n",
    "  \n",
    "raju = A()\n",
    "  \n",
    "# setting the age using setter\n",
    "raju.set_age(30)\n",
    "  \n",
    "# retrieving age using getter\n",
    "print(raju.get_age())\n",
    "  \n",
    "print(raju._age)\n"
   ]
  },
  {
   "cell_type": "code",
   "execution_count": null,
   "id": "ab4b07c1-7254-4100-8000-52035c9d7c11",
   "metadata": {},
   "outputs": [],
   "source": []
  },
  {
   "cell_type": "code",
   "execution_count": 64,
   "id": "c78736e7-6a25-4fd7-8977-4887c68b0cdb",
   "metadata": {},
   "outputs": [],
   "source": [
    "### Q5.What is method overriding in python? Write a python code to demonstrate method overriding."
   ]
  },
  {
   "cell_type": "code",
   "execution_count": null,
   "id": "4430bdf7-8adc-4165-8db7-b61283923eed",
   "metadata": {},
   "outputs": [],
   "source": [
    "## Method overriding is a feature of python programming languages where the subclass or child class can\n",
    "## provide the program with specific characteristics or a specific implementation process of data provided \n",
    "## that are already defined in the parent class or superclass"
   ]
  },
  {
   "cell_type": "code",
   "execution_count": 65,
   "id": "e9f83bec-c96a-48f1-a37d-4722f0dd008c",
   "metadata": {},
   "outputs": [
    {
     "name": "stdout",
     "output_type": "stream",
     "text": [
      "Inside Parent\n",
      "Inside Child\n"
     ]
    }
   ],
   "source": [
    "# Python program to demonstrate \n",
    "# method overriding\n",
    "  \n",
    "  \n",
    "# Defining parent class\n",
    "class Parent():\n",
    "      \n",
    "    # Constructor\n",
    "    def __init__(self):\n",
    "        self.value = \"Inside Parent\"\n",
    "          \n",
    "    # Parent's show method\n",
    "    def show(self):\n",
    "        print(self.value)\n",
    "          \n",
    "# Defining child class\n",
    "class Child(Parent):\n",
    "      \n",
    "    # Constructor\n",
    "    def __init__(self):\n",
    "        self.value = \"Inside Child\"\n",
    "          \n",
    "    # Child's show method\n",
    "    def show(self):\n",
    "        print(self.value)\n",
    "          \n",
    "          \n",
    "# Driver's code\n",
    "obj1 = Parent()\n",
    "obj2 = Child()\n",
    "  \n",
    "obj1.show()\n",
    "obj2.show()\n"
   ]
  },
  {
   "cell_type": "code",
   "execution_count": null,
   "id": "75164973-47bd-4480-94d0-4d1731131160",
   "metadata": {},
   "outputs": [],
   "source": []
  }
 ],
 "metadata": {
  "kernelspec": {
   "display_name": "Python 3 (ipykernel)",
   "language": "python",
   "name": "python3"
  },
  "language_info": {
   "codemirror_mode": {
    "name": "ipython",
    "version": 3
   },
   "file_extension": ".py",
   "mimetype": "text/x-python",
   "name": "python",
   "nbconvert_exporter": "python",
   "pygments_lexer": "ipython3",
   "version": "3.10.8"
  }
 },
 "nbformat": 4,
 "nbformat_minor": 5
}
